{
 "cells": [
  {
   "cell_type": "markdown",
   "metadata": {},
   "source": [
    "# Tensor to File"
   ]
  },
  {
   "cell_type": "code",
   "execution_count": 1,
   "metadata": {},
   "outputs": [],
   "source": [
    "import os \n",
    "import cv2 \n",
    "import glob \n",
    "import torch\n",
    "import numpy as np \n",
    "from tqdm import tqdm\n",
    "from PIL import Image  \n",
    "import io\n",
    "from data.torch_dataset import Transform \n",
    "\n",
    "def read_pfm(file : str):\n",
    "    with open(file, 'rb') as f:\n",
    "        # Header\n",
    "        header = f.readline().decode('utf-8').rstrip()\n",
    "        color = header == 'PF'\n",
    "\n",
    "        # Dimensions\n",
    "        dim_line = f.readline().decode('utf-8').rstrip()\n",
    "        width, height = map(int, dim_line.split())\n",
    "\n",
    "        # Scale (endian and range)\n",
    "        scale = float(f.readline().decode('utf-8').rstrip())\n",
    "        endian = '<' if scale < 0 else '>'  # Little endian if scale is negative\n",
    "\n",
    "        # Pixel data\n",
    "        data = np.fromfile(f, endian + 'f')  # Read floats from file\n",
    "        shape = (height, width, 3) if color else (height, width)\n",
    "\n",
    "        # Reshape and flip the image vertically\n",
    "        return np.reshape(data, shape)[::-1, ...]\n",
    "        \n",
    "def min_max_scaler(tensor):\n",
    "    # Hitung nilai minimum dan maksimum dari tensor input\n",
    "    tensor_min = tensor.min()\n",
    "    tensor_max = tensor.max()\n",
    "\n",
    "    # Terapkan Min-Max scaling\n",
    "    scaled_tensor = (tensor - tensor_min) / (tensor_max - tensor_min)  # Scaling ke [0, 1]\n",
    "    return scaled_tensor"
   ]
  },
  {
   "cell_type": "code",
   "execution_count": 2,
   "metadata": {},
   "outputs": [],
   "source": [
    "dataset_root = \"/mnt/d/backup/InSpaceType_all_sp8/home/InSpaceType\" \n",
    "dataset = []\n",
    "for seq in os.listdir(dataset_root): \n",
    "    sequence = os.path.join(dataset_root, seq) \n",
    "\n",
    "    images = sorted(glob.glob(sequence + \"/*.jpg\"))\n",
    "    pmfs = sorted(glob.glob(sequence + \"/*.pfm\"))  \n",
    "\n",
    "    for image, pmf in zip(images, pmfs): \n",
    "        dataset.append({'image':image, 'label':pmf})"
   ]
  },
  {
   "cell_type": "code",
   "execution_count": null,
   "metadata": {},
   "outputs": [],
   "source": [
    "image_tensors = [] \n",
    "pfm_tensors = []\n",
    "for dat in tqdm(dataset): \n",
    "    image = dat[\"image\"]\n",
    "    image = Image.open(image)\n",
    "    transformed = Transform.train_transform(image)\n",
    "    image_tensors.append(transformed)\n",
    "\n",
    "    label = dat[\"label\"]\n",
    "    pfm_image = read_pfm(label) \n",
    "    pfm_image = cv2.resize(pfm_image, (256,256))\n",
    "    pfm_tensor = torch.from_numpy(pfm_image)\n",
    "    pfm_tensor = min_max_scaler(pfm_tensor) \n",
    "    pfm_tensors.append(pfm_tensor) \n"
   ]
  },
  {
   "cell_type": "code",
   "execution_count": 4,
   "metadata": {},
   "outputs": [],
   "source": [
    "torch.save(image_tensors, 'images_tensor.pt')\n",
    "torch.save(pfm_tensors, 'labels_tensor.pt')"
   ]
  },
  {
   "cell_type": "markdown",
   "metadata": {},
   "source": [
    "# Coba"
   ]
  },
  {
   "cell_type": "code",
   "execution_count": 2,
   "metadata": {},
   "outputs": [],
   "source": [
    "import torch \n",
    "from torch.utils.data import DataLoader\n",
    "from data.torch_dataset import DepthDataset \n",
    "import matplotlib.pyplot as plt"
   ]
  },
  {
   "cell_type": "code",
   "execution_count": 3,
   "metadata": {},
   "outputs": [
    {
     "name": "stderr",
     "output_type": "stream",
     "text": [
      "/tmp/ipykernel_46652/911462910.py:1: FutureWarning: You are using `torch.load` with `weights_only=False` (the current default value), which uses the default pickle module implicitly. It is possible to construct malicious pickle data which will execute arbitrary code during unpickling (See https://github.com/pytorch/pytorch/blob/main/SECURITY.md#untrusted-models for more details). In a future release, the default value for `weights_only` will be flipped to `True`. This limits the functions that could be executed during unpickling. Arbitrary objects will no longer be allowed to be loaded via this mode unless they are explicitly allowlisted by the user via `torch.serialization.add_safe_globals`. We recommend you start setting `weights_only=True` for any use case where you don't have full control of the loaded file. Please open an issue on GitHub for any issues related to this experimental feature.\n",
      "  images_tensor = torch.load(\"images_tensor.pt\")\n",
      "/tmp/ipykernel_46652/911462910.py:2: FutureWarning: You are using `torch.load` with `weights_only=False` (the current default value), which uses the default pickle module implicitly. It is possible to construct malicious pickle data which will execute arbitrary code during unpickling (See https://github.com/pytorch/pytorch/blob/main/SECURITY.md#untrusted-models for more details). In a future release, the default value for `weights_only` will be flipped to `True`. This limits the functions that could be executed during unpickling. Arbitrary objects will no longer be allowed to be loaded via this mode unless they are explicitly allowlisted by the user via `torch.serialization.add_safe_globals`. We recommend you start setting `weights_only=True` for any use case where you don't have full control of the loaded file. Please open an issue on GitHub for any issues related to this experimental feature.\n",
      "  labels_tensor = torch.load(\"labels_tensor.pt\")\n"
     ]
    }
   ],
   "source": [
    "images_tensor = torch.load(\"images_tensor.pt\") \n",
    "labels_tensor = torch.load(\"labels_tensor.pt\") "
   ]
  },
  {
   "cell_type": "markdown",
   "metadata": {},
   "source": [
    "# Debug"
   ]
  },
  {
   "cell_type": "code",
   "execution_count": 4,
   "metadata": {},
   "outputs": [],
   "source": [
    "from sklearn.model_selection import train_test_split \n",
    "from torchmetrics.image import StructuralSimilarityIndexMeasure \n",
    "\n",
    "ssim = StructuralSimilarityIndexMeasure(data_range=1.0)"
   ]
  },
  {
   "cell_type": "code",
   "execution_count": 5,
   "metadata": {},
   "outputs": [],
   "source": [
    "X_train, X_test, y_train, y_test = train_test_split(\n",
    "    images_tensor, labels_tensor, \n",
    "    test_size=0.2, random_state=42\n",
    ")\n",
    "train_dataset = DepthDataset(X_train, y_train)\n",
    "val_dataset = DepthDataset(X_test, y_test)\n",
    "\n",
    "train_loader = DataLoader(train_dataset, batch_size=8, shuffle=True)\n",
    "val_loader = DataLoader(val_dataset, batch_size=8, shuffle=False)"
   ]
  },
  {
   "cell_type": "code",
   "execution_count": 11,
   "metadata": {},
   "outputs": [],
   "source": [
    "for x, y in val_loader: \n",
    "    y = y.unsqueeze(1)\n",
    "\n",
    "    loss = ssim(y,y) \n",
    "    \n",
    "    if torch.isnan(loss).any() or torch.isinf(loss).any():\n",
    "        print(\"wkwkwkw\")\n"
   ]
  },
  {
   "cell_type": "code",
   "execution_count": null,
   "metadata": {},
   "outputs": [],
   "source": []
  }
 ],
 "metadata": {
  "kernelspec": {
   "display_name": "venv",
   "language": "python",
   "name": "python3"
  },
  "language_info": {
   "codemirror_mode": {
    "name": "ipython",
    "version": 3
   },
   "file_extension": ".py",
   "mimetype": "text/x-python",
   "name": "python",
   "nbconvert_exporter": "python",
   "pygments_lexer": "ipython3",
   "version": "3.10.12"
  }
 },
 "nbformat": 4,
 "nbformat_minor": 2
}
